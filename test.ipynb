{
 "cells": [
  {
   "cell_type": "code",
   "execution_count": null,
   "metadata": {},
   "outputs": [],
   "source": [
    "import os\n",
    "import sys\n",
    "\n",
    "sys.path.append(os.path.join(os.getcwd(), \"src\"))\n",
    "\n",
    "import tensorflow as tf\n",
    "import numpy as np\n",
    "import tensorflow as tf\n",
    "import matplotlib.pyplot as plt\n",
    "import datetime\n",
    "from data_generator import SimpleMultiViewDataGenerator\n",
    "from evaluation import evaluate_and_log_model\n",
    "import wandb\n",
    "from wandb.integration.keras import WandbMetricsLogger, WandbModelCheckpoint\n",
    "\n",
    "from model_factory import build_model\n",
    "np.random.seed(42)\n",
    "tf.random.set_seed(42)"
   ]
  },
  {
   "cell_type": "code",
   "execution_count": null,
   "metadata": {},
   "outputs": [],
   "source": [
    "from models.early_fusion.resnet50_early import StackReduceLayer\n",
    "local_model_path = \"/home/yammo/Downloads/model_best_frozen.keras\"\n",
    "\n",
    "model = tf.keras.models.load_model(local_model_path,\n",
    "                                   custom_objects={\"StackReduceLayer\": StackReduceLayer})"
   ]
  },
  {
   "cell_type": "code",
   "execution_count": null,
   "metadata": {},
   "outputs": [],
   "source": [
    "# Define test dataset configuration.\n",
    "# Make sure test_data_dir is a valid path on your system.\n",
    "config = {\n",
    "    \"views\": [\"back_left\", \"back_right\", \"front_left\", \"front_right\", \"top\"],\n",
    "    \"input_shape\": (224, 224, 3),\n",
    "    \"batch_size\": 16\n",
    "}\n",
    "\n",
    "views = [\"back_left\", \"back_right\", \"front_left\", \"front_right\", \"top\"]\n",
    "class_names = ['real_1', 'real_2', 'real_3', 'real_4', 'real_5', 'thingi10k_32770', 'thingi10k_34785', 'thingi10k_35269', 'thingi10k_36069', 'thingi10k_36082', 'thingi10k_36086', 'thingi10k_36090', 'thingi10k_36372', 'thingi10k_36373', 'thingi10k_37093', 'thingi10k_37266', 'thingi10k_37272', 'thingi10k_37274', 'thingi10k_37275', 'thingi10k_37276', 'thingi10k_37278', 'thingi10k_37280', 'thingi10k_37282', 'thingi10k_37283', 'thingi10k_37284', 'thingi10k_37287', 'thingi10k_37288', 'thingi10k_37322', 'thingi10k_37323', 'thingi10k_37506', 'thingi10k_37620', 'thingi10k_37627', 'thingi10k_37743', 'thingi10k_37745', 'thingi10k_37750', 'thingi10k_37841', 'thingi10k_37865', 'thingi10k_37880', 'thingi10k_37881', 'thingi10k_37886', 'thingi10k_37888', 'thingi10k_37964', 'thingi10k_37967', 'thingi10k_37972', 'thingi10k_37991', 'thingi10k_38290', 'thingi10k_38291', 'thingi10k_38293', 'thingi10k_38294', 'thingi10k_38296', 'thingi10k_38297', 'thingi10k_38636', 'thingi10k_38637', 'thingi10k_38639', 'thingi10k_38640', 'thingi10k_38643', 'thingi10k_38644', 'thingi10k_39050', 'thingi10k_39108', 'thingi10k_39158', 'thingi10k_39159', 'thingi10k_39164', 'thingi10k_39165', 'thingi10k_39180', 'thingi10k_39182', 'thingi10k_39245', 'thingi10k_39295', 'thingi10k_39345', 'thingi10k_39353', 'thingi10k_39358', 'thingi10k_39495', 'thingi10k_39498', 'thingi10k_39499', 'thingi10k_39572', 'thingi10k_39573', 'thingi10k_39636', 'thingi10k_39637', 'thingi10k_39729', 'thingi10k_39730', 'thingi10k_39769']\n",
    "\n",
    "# red_marker_label = \"charging_brick\"\n",
    "# red_marker_dir = r\"/home/yammo/Development/multi-view-classification/dataset/test_charging_brick\"\n",
    "\n",
    "label = \"charging_brick\"\n",
    "dir = f\"/home/yammo/Development/multi-view-classification/dataset/test_{label}\"\n",
    "\n",
    "# Set an output directory for evaluation results.\n",
    "output_dir = \"results/test_run\"\n",
    "os.makedirs(output_dir, exist_ok=True)\n",
    "\n",
    "# Evaluate the model on the test dataset and log the results to wandb.\n",
    "\n",
    "evaluate_and_log_model(model, output_dir, label, None, dir, config, class_names, None)"
   ]
  }
 ],
 "metadata": {
  "kernelspec": {
   "display_name": "tf",
   "language": "python",
   "name": "python3"
  },
  "language_info": {
   "codemirror_mode": {
    "name": "ipython",
    "version": 3
   },
   "file_extension": ".py",
   "mimetype": "text/x-python",
   "name": "python",
   "nbconvert_exporter": "python",
   "pygments_lexer": "ipython3",
   "version": "3.10.16"
  }
 },
 "nbformat": 4,
 "nbformat_minor": 2
}
